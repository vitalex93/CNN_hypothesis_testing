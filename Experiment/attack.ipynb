{
 "cells": [
  {
   "cell_type": "code",
   "execution_count": null,
   "metadata": {},
   "outputs": [],
   "source": [
    "import torch\n",
    "import torch.nn as nn\n",
    "import torchvision.models as models\n",
    "from noise_utils import *\n",
    "from torchvision import datasets, transforms as T\n",
    "from adversarial import *\n",
    "import pandas as pd\n",
    "\n",
    "is_cuda_available = torch.cuda.is_available()\n",
    "device = torch.device('cuda' if is_cuda_available else 'cpu')\n",
    "\n",
    "test_transform = T.Compose ([\n",
    "    T.Resize(255),\n",
    "    T.CenterCrop(224),\n",
    "    T.ToTensor(),\n",
    "    T.Normalize([0.485, 0.456, 0.406], [0.229, 0.224, 0.225])\n",
    "])\n",
    "\n",
    "test_data = datasets.ImageFolder(\"./data/flowers/test\", transform=test_transform)\n",
    "testloader = torch.utils.data.DataLoader(test_data, batch_size=32)\n",
    "\n",
    "def attack_network(name, type): \n",
    "    storage = {}\n",
    "    \n",
    "    if name == \"alexnet\":\n",
    "        estimator = models.alexnet()\n",
    "    elif name == \"resnet18\":\n",
    "        estimator = models.resnet18()\n",
    "    else:\n",
    "        name = \"squeezenet1_0\"\n",
    "        estimator = models.squeezenet1_0()\n",
    "        \n",
    "    name = \"./trained_models/\" + name\n",
    "    states = [\"none\", \"gaussian\", \"speckle\", \"s&p\", \"eraser\", \"fgsm\", \"pgd\"]\n",
    "        \n",
    "    for state in states:\n",
    "        saved_model = name + \"_\" + state + \".pth\"\n",
    "        estimator.load_state_dict(torch.load(saved_model))\n",
    "        estimator = estimator.to(device)\n",
    "        criterion = nn.CrossEntropyLoss()\n",
    "            \n",
    "        if type == \"fgsm\":\n",
    "            adversary = FGSM(estimator, criterion, device)\n",
    "        else:\n",
    "            adversary = PGD(estimator, criterion, device)\n",
    "        \n",
    "        acc = adversary.attack(testloader)\n",
    "        storage[saved_model[:-4]] = acc\n",
    "        \n",
    "    return storage"
   ]
  },
  {
   "cell_type": "code",
   "execution_count": null,
   "metadata": {},
   "outputs": [],
   "source": [
    "storage = attack_network(\"alexnet\", \"pgd\")\n",
    "alexnet_df = pd.DataFrame(storage.items(), columns=[\"Model\", \"Accuracy\"])\n",
    "alexnet_df"
   ]
  },
  {
   "cell_type": "code",
   "execution_count": null,
   "metadata": {},
   "outputs": [],
   "source": [
    "storage = attack_network(\"resnet18\", \"fgsm\")\n",
    "resnet18_df = pd.DataFrame(storage.items(), columns=[\"Model\", \"Accuracy\"])\n",
    "resnet18_df"
   ]
  },
  {
   "cell_type": "code",
   "execution_count": null,
   "metadata": {},
   "outputs": [],
   "source": [
    "storage = attack_network(\"squeezenet1_0\", \"fgsm\")\n",
    "squeezenet1_0_df = pd.DataFrame(storage.items(), columns=[\"Model\", \"Accuracy\"])\n",
    "squeezenet1_0_df"
   ]
  }
 ],
 "metadata": {
  "interpreter": {
   "hash": "7f46a541a5fcb097b81b0a1ed969985dcdc63c81f34ae8abef835ad67b1a564a"
  },
  "kernelspec": {
   "display_name": "Python 3.8.13 ('base')",
   "language": "python",
   "name": "python3"
  },
  "language_info": {
   "codemirror_mode": {
    "name": "ipython",
    "version": 3
   },
   "file_extension": ".py",
   "mimetype": "text/x-python",
   "name": "python",
   "nbconvert_exporter": "python",
   "pygments_lexer": "ipython3",
   "version": "3.8.13"
  },
  "orig_nbformat": 4
 },
 "nbformat": 4,
 "nbformat_minor": 2
}
