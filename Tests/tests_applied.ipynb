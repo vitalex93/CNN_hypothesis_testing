{
  "nbformat": 4,
  "nbformat_minor": 0,
  "metadata": {
    "colab": {
      "name": "tests_applied.ipynb",
      "provenance": [],
      "collapsed_sections": []
    },
    "kernelspec": {
      "name": "python3",
      "display_name": "Python 3"
    },
    "language_info": {
      "name": "python"
    }
  },
  "cells": [
    {
      "cell_type": "code",
      "source": [
        "!pip install pingouin"
      ],
      "metadata": {
        "colab": {
          "base_uri": "https://localhost:8080/"
        },
        "collapsed": true,
        "id": "DNB1j9MD8JvB",
        "outputId": "f969c2ae-9668-4bc4-cc9b-d44e9a50ca20"
      },
      "execution_count": null,
      "outputs": [
        {
          "output_type": "stream",
          "name": "stdout",
          "text": [
            "Collecting pingouin\n",
            "  Downloading pingouin-0.5.1.tar.gz (183 kB)\n",
            "\u001b[?25l\r\u001b[K     |█▉                              | 10 kB 17.1 MB/s eta 0:00:01\r\u001b[K     |███▋                            | 20 kB 12.1 MB/s eta 0:00:01\r\u001b[K     |█████▍                          | 30 kB 7.8 MB/s eta 0:00:01\r\u001b[K     |███████▏                        | 40 kB 8.2 MB/s eta 0:00:01\r\u001b[K     |█████████                       | 51 kB 4.3 MB/s eta 0:00:01\r\u001b[K     |██████████▊                     | 61 kB 5.1 MB/s eta 0:00:01\r\u001b[K     |████████████▌                   | 71 kB 5.5 MB/s eta 0:00:01\r\u001b[K     |██████████████▎                 | 81 kB 5.3 MB/s eta 0:00:01\r\u001b[K     |████████████████                | 92 kB 5.9 MB/s eta 0:00:01\r\u001b[K     |██████████████████              | 102 kB 5.0 MB/s eta 0:00:01\r\u001b[K     |███████████████████▊            | 112 kB 5.0 MB/s eta 0:00:01\r\u001b[K     |█████████████████████▌          | 122 kB 5.0 MB/s eta 0:00:01\r\u001b[K     |███████████████████████▎        | 133 kB 5.0 MB/s eta 0:00:01\r\u001b[K     |█████████████████████████       | 143 kB 5.0 MB/s eta 0:00:01\r\u001b[K     |██████████████████████████▉     | 153 kB 5.0 MB/s eta 0:00:01\r\u001b[K     |████████████████████████████▋   | 163 kB 5.0 MB/s eta 0:00:01\r\u001b[K     |██████████████████████████████▍ | 174 kB 5.0 MB/s eta 0:00:01\r\u001b[K     |████████████████████████████████| 183 kB 5.0 MB/s \n",
            "\u001b[?25hRequirement already satisfied: numpy>=1.19 in /usr/local/lib/python3.7/dist-packages (from pingouin) (1.21.6)\n",
            "Collecting scipy>=1.7\n",
            "  Downloading scipy-1.7.3-cp37-cp37m-manylinux_2_12_x86_64.manylinux2010_x86_64.whl (38.1 MB)\n",
            "\u001b[K     |████████████████████████████████| 38.1 MB 1.3 MB/s \n",
            "\u001b[?25hRequirement already satisfied: pandas>=1.0 in /usr/local/lib/python3.7/dist-packages (from pingouin) (1.3.5)\n",
            "Requirement already satisfied: matplotlib>=3.0.2 in /usr/local/lib/python3.7/dist-packages (from pingouin) (3.2.2)\n",
            "Requirement already satisfied: seaborn>=0.11 in /usr/local/lib/python3.7/dist-packages (from pingouin) (0.11.2)\n",
            "Collecting statsmodels>=0.13\n",
            "  Downloading statsmodels-0.13.2-cp37-cp37m-manylinux_2_17_x86_64.manylinux2014_x86_64.whl (9.8 MB)\n",
            "\u001b[K     |████████████████████████████████| 9.8 MB 37.9 MB/s \n",
            "\u001b[?25hRequirement already satisfied: scikit-learn in /usr/local/lib/python3.7/dist-packages (from pingouin) (1.0.2)\n",
            "Collecting pandas_flavor>=0.2.0\n",
            "  Downloading pandas_flavor-0.3.0-py3-none-any.whl (6.3 kB)\n",
            "Collecting outdated\n",
            "  Downloading outdated-0.2.1-py3-none-any.whl (7.5 kB)\n",
            "Requirement already satisfied: tabulate in /usr/local/lib/python3.7/dist-packages (from pingouin) (0.8.9)\n",
            "Requirement already satisfied: cycler>=0.10 in /usr/local/lib/python3.7/dist-packages (from matplotlib>=3.0.2->pingouin) (0.11.0)\n",
            "Requirement already satisfied: kiwisolver>=1.0.1 in /usr/local/lib/python3.7/dist-packages (from matplotlib>=3.0.2->pingouin) (1.4.2)\n",
            "Requirement already satisfied: pyparsing!=2.0.4,!=2.1.2,!=2.1.6,>=2.0.1 in /usr/local/lib/python3.7/dist-packages (from matplotlib>=3.0.2->pingouin) (3.0.8)\n",
            "Requirement already satisfied: python-dateutil>=2.1 in /usr/local/lib/python3.7/dist-packages (from matplotlib>=3.0.2->pingouin) (2.8.2)\n",
            "Requirement already satisfied: typing-extensions in /usr/local/lib/python3.7/dist-packages (from kiwisolver>=1.0.1->matplotlib>=3.0.2->pingouin) (4.2.0)\n",
            "Requirement already satisfied: pytz>=2017.3 in /usr/local/lib/python3.7/dist-packages (from pandas>=1.0->pingouin) (2022.1)\n",
            "Requirement already satisfied: xarray in /usr/local/lib/python3.7/dist-packages (from pandas_flavor>=0.2.0->pingouin) (0.18.2)\n",
            "Collecting pandas_flavor>=0.2.0\n",
            "  Downloading pandas_flavor-0.2.0-py2.py3-none-any.whl (6.6 kB)\n",
            "Requirement already satisfied: six>=1.5 in /usr/local/lib/python3.7/dist-packages (from python-dateutil>=2.1->matplotlib>=3.0.2->pingouin) (1.15.0)\n",
            "Requirement already satisfied: patsy>=0.5.2 in /usr/local/lib/python3.7/dist-packages (from statsmodels>=0.13->pingouin) (0.5.2)\n",
            "Requirement already satisfied: packaging>=21.3 in /usr/local/lib/python3.7/dist-packages (from statsmodels>=0.13->pingouin) (21.3)\n",
            "Collecting littleutils\n",
            "  Downloading littleutils-0.2.2.tar.gz (6.6 kB)\n",
            "Requirement already satisfied: requests in /usr/local/lib/python3.7/dist-packages (from outdated->pingouin) (2.23.0)\n",
            "Requirement already satisfied: urllib3!=1.25.0,!=1.25.1,<1.26,>=1.21.1 in /usr/local/lib/python3.7/dist-packages (from requests->outdated->pingouin) (1.24.3)\n",
            "Requirement already satisfied: idna<3,>=2.5 in /usr/local/lib/python3.7/dist-packages (from requests->outdated->pingouin) (2.10)\n",
            "Requirement already satisfied: chardet<4,>=3.0.2 in /usr/local/lib/python3.7/dist-packages (from requests->outdated->pingouin) (3.0.4)\n",
            "Requirement already satisfied: certifi>=2017.4.17 in /usr/local/lib/python3.7/dist-packages (from requests->outdated->pingouin) (2021.10.8)\n",
            "Requirement already satisfied: threadpoolctl>=2.0.0 in /usr/local/lib/python3.7/dist-packages (from scikit-learn->pingouin) (3.1.0)\n",
            "Requirement already satisfied: joblib>=0.11 in /usr/local/lib/python3.7/dist-packages (from scikit-learn->pingouin) (1.1.0)\n",
            "Requirement already satisfied: setuptools>=40.4 in /usr/local/lib/python3.7/dist-packages (from xarray->pandas_flavor>=0.2.0->pingouin) (57.4.0)\n",
            "Building wheels for collected packages: pingouin, littleutils\n",
            "  Building wheel for pingouin (setup.py) ... \u001b[?25l\u001b[?25hdone\n",
            "  Created wheel for pingouin: filename=pingouin-0.5.1-py3-none-any.whl size=194002 sha256=43777eba7a978444bd9cb4364030b65f45e4c84d09b1f9271834afb11be95831\n",
            "  Stored in directory: /root/.cache/pip/wheels/74/a7/b6/5b5f03b0395fdada1f45d3aed76e7da48873a02805545ef652\n",
            "  Building wheel for littleutils (setup.py) ... \u001b[?25l\u001b[?25hdone\n",
            "  Created wheel for littleutils: filename=littleutils-0.2.2-py3-none-any.whl size=7048 sha256=f6c3d7f9d6ed76d2620c2c89cc15464f18b7918f74edc7a99565ebecdee0cdf3\n",
            "  Stored in directory: /root/.cache/pip/wheels/d6/64/cd/32819b511a488e4993f2fab909a95330289c3f4e0f6ef4676d\n",
            "Successfully built pingouin littleutils\n",
            "Installing collected packages: scipy, littleutils, statsmodels, pandas-flavor, outdated, pingouin\n",
            "  Attempting uninstall: scipy\n",
            "    Found existing installation: scipy 1.4.1\n",
            "    Uninstalling scipy-1.4.1:\n",
            "      Successfully uninstalled scipy-1.4.1\n",
            "  Attempting uninstall: statsmodels\n",
            "    Found existing installation: statsmodels 0.10.2\n",
            "    Uninstalling statsmodels-0.10.2:\n",
            "      Successfully uninstalled statsmodels-0.10.2\n",
            "\u001b[31mERROR: pip's dependency resolver does not currently take into account all the packages that are installed. This behaviour is the source of the following dependency conflicts.\n",
            "albumentations 0.1.12 requires imgaug<0.2.7,>=0.2.5, but you have imgaug 0.2.9 which is incompatible.\u001b[0m\n",
            "Successfully installed littleutils-0.2.2 outdated-0.2.1 pandas-flavor-0.2.0 pingouin-0.5.1 scipy-1.7.3 statsmodels-0.13.2\n"
          ]
        }
      ]
    },
    {
      "cell_type": "code",
      "source": [
        "from h_test import *\n",
        "from data_applied import *"
      ],
      "metadata": {
        "id": "0ZkIbKPGN9tz",
        "collapsed": true
      },
      "execution_count": null,
      "outputs": []
    },
    {
      "cell_type": "code",
      "source": [
        "cnn = [alexnet, resnet, squeezenet]\n",
        "noise = [gaussian,speckle,fgsm,pgd, s_and_p, eraser]\n",
        "adversarial = [alexnet_adversarial, resnet_adversarial, squeezenet_adversarial]"
      ],
      "metadata": {
        "collapsed": true,
        "id": "VIiusMziP1qG",
        "colab": {
          "base_uri": "https://localhost:8080/"
        },
        "outputId": "5851ddba-80c7-492b-a2b4-5e4f350cf405"
      },
      "execution_count": null,
      "outputs": [
        {
          "output_type": "execute_result",
          "data": {
            "text/plain": [
              "{'alexnet_eraser': array([0.02075702, 0.02319902, 0.01953602, 0.02442002, 0.01953602,\n",
              "        0.02930403, 0.01953602, 0.02075702, 0.03174603, 0.02808303,\n",
              "        0.01709402, 0.03052503, 0.03296703, 0.03296703, 0.02930403,\n",
              "        0.02808303, 0.02442002, 0.03418803, 0.02930403, 0.01465201,\n",
              "        0.01465201, 0.01953602, 0.02319902, 0.02197802, 0.02075702,\n",
              "        0.01221001]),\n",
              " 'alexnet_fgsm': array([0.01709402, 0.02197802, 0.01953602, 0.01831502, 0.01098901,\n",
              "        0.02442002, 0.01587302, 0.01587302, 0.02808303, 0.02197802,\n",
              "        0.01343101, 0.02930403, 0.02930403, 0.03296703, 0.02686203,\n",
              "        0.02197802, 0.02564103, 0.02686203, 0.02197802, 0.01831502,\n",
              "        0.01465201, 0.01343101, 0.01953602, 0.01343101, 0.01831502,\n",
              "        0.00854701]),\n",
              " 'alexnet_gaussian': array([0.00610501, 0.01098901, 0.01953602, 0.01709402, 0.00976801,\n",
              "        0.01587302, 0.00854701, 0.003663  , 0.02319902, 0.01831502,\n",
              "        0.01587302, 0.02197802, 0.01831502, 0.02442002, 0.02197802,\n",
              "        0.02075702, 0.01953602, 0.02442002, 0.01709402, 0.01098901,\n",
              "        0.01221001, 0.00732601, 0.01709402, 0.00732601, 0.01465201,\n",
              "        0.00610501]),\n",
              " 'alexnet_none': array([0.02319902, 0.01953602, 0.02197802, 0.02442002, 0.01953602,\n",
              "        0.02808303, 0.01465201, 0.01465201, 0.03052503, 0.02808303,\n",
              "        0.01709402, 0.02808303, 0.03174603, 0.02930403, 0.02564103,\n",
              "        0.02686203, 0.02808303, 0.02808303, 0.02808303, 0.02319902,\n",
              "        0.00854701, 0.01587302, 0.02319902, 0.01831502, 0.01709402,\n",
              "        0.01098901]),\n",
              " 'alexnet_pgd': array([0.02075702, 0.01953602, 0.02075702, 0.02197802, 0.01098901,\n",
              "        0.02686203, 0.01221001, 0.01953602, 0.03052503, 0.02442002,\n",
              "        0.01343101, 0.02442002, 0.03418803, 0.02564103, 0.02686203,\n",
              "        0.02442002, 0.02686203, 0.03174603, 0.03540904, 0.01709402,\n",
              "        0.01709402, 0.01709402, 0.01709402, 0.02686203, 0.02075702,\n",
              "        0.00732601]),\n",
              " 'alexnet_s&p': array([0.00976801, 0.01221001, 0.01587302, 0.01709402, 0.00732601,\n",
              "        0.01831502, 0.01098901, 0.004884  , 0.01098901, 0.02442002,\n",
              "        0.01587302, 0.02564103, 0.00976801, 0.02075702, 0.01831502,\n",
              "        0.01465201, 0.02442002, 0.02319902, 0.01831502, 0.01465201,\n",
              "        0.00610501, 0.01098901, 0.01953602, 0.01343101, 0.02075702,\n",
              "        0.004884  ]),\n",
              " 'alexnet_speckle': array([0.01098901, 0.01221001, 0.01953602, 0.01098901, 0.00610501,\n",
              "        0.01831502, 0.01343101, 0.003663  , 0.01221001, 0.01343101,\n",
              "        0.01465201, 0.02686203, 0.01221001, 0.02197802, 0.01831502,\n",
              "        0.01587302, 0.01831502, 0.02197802, 0.02197802, 0.01953602,\n",
              "        0.00732601, 0.00976801, 0.01221001, 0.00854701, 0.01709402,\n",
              "        0.003663  ])}"
            ]
          },
          "metadata": {},
          "execution_count": 18
        }
      ]
    },
    {
      "cell_type": "markdown",
      "source": [
        "**TEST 1 - Shapiro-Wilk test for normality**"
      ],
      "metadata": {
        "id": "G57dkAfUPkY-"
      }
    },
    {
      "cell_type": "code",
      "source": [
        "for i in cnn:\n",
        "  print(pd.DataFrame.from_dict(H_Test(i).is_normal()))"
      ],
      "metadata": {
        "colab": {
          "base_uri": "https://localhost:8080/"
        },
        "collapsed": true,
        "id": "cpx3EiUJPjG7",
        "outputId": "49aae439-3b91-47db-ed63-ba34086be5cb"
      },
      "execution_count": null,
      "outputs": [
        {
          "output_type": "stream",
          "name": "stdout",
          "text": [
            "                     alexnet_none                 alexnet_eraser  \\\n",
            "0                            True                           True   \n",
            "1  {'p_val': 0.12337031960487366}  {'p_val': 0.3214679956436157}   \n",
            "\n",
            "                 alexnet_gaussian                   alexnet_fgsm  \\\n",
            "0                            True                           True   \n",
            "1  {'p_val': 0.20841431617736816}  {'p_val': 0.8313117623329163}   \n",
            "\n",
            "                    alexnet_pgd                alexnet_speckle  \\\n",
            "0                          True                           True   \n",
            "1  {'p_val': 0.922224223613739}  {'p_val': 0.8008979558944702}   \n",
            "\n",
            "                     alexnet_s&p  \n",
            "0                           True  \n",
            "1  {'p_val': 0.5064802169799805}  \n",
            "                     resnet_none                  resnet_gaussian  \\\n",
            "0                           True                            False   \n",
            "1  {'p_val': 0.9753748774528503}  {'p_val': 0.022015096619725227}   \n",
            "\n",
            "                  resnet_speckle                      resnet_s&p  \\\n",
            "0                           True                            True   \n",
            "1  {'p_val': 0.7052846550941467}  {'p_val': 0.06953267008066177}   \n",
            "\n",
            "                   resnet_eraser                     resnet_pgd  \\\n",
            "0                           True                           True   \n",
            "1  {'p_val': 0.8467072248458862}  {'p_val': 0.9235301613807678}   \n",
            "\n",
            "                     resnet_fgsm  \n",
            "0                           True  \n",
            "1  {'p_val': 0.3058241605758667}  \n",
            "                squeezenet_eraser              squeezenet_speckle  \\\n",
            "0                            True                            True   \n",
            "1  {'p_val': 0.26070287823677063}  {'p_val': 0.17244701087474823}   \n",
            "\n",
            "                    squeezenet_s&p             squeezenet_gaussian  \\\n",
            "0                            False                            True   \n",
            "1  {'p_val': 0.010573540814220905}  {'p_val': 0.08623500913381577}   \n",
            "\n",
            "                 squeezenet_fgsm                 squeezenet_pgd  \\\n",
            "0                           True                           True   \n",
            "1  {'p_val': 0.7536930441856384}  {'p_val': 0.5579118728637695}   \n",
            "\n",
            "                  squeezenet_none  \n",
            "0                            True  \n",
            "1  {'p_val': 0.16802668571472168}  \n"
          ]
        }
      ]
    },
    {
      "cell_type": "code",
      "source": [
        "for i in noise:\n",
        "  print(pd.DataFrame.from_dict(H_Test(i).is_normal()))"
      ],
      "metadata": {
        "colab": {
          "base_uri": "https://localhost:8080/"
        },
        "collapsed": true,
        "id": "qmlD2feDRd6w",
        "outputId": "ff8b993c-616d-4725-a5be-ea1720a1e74a"
      },
      "execution_count": null,
      "outputs": [
        {
          "output_type": "stream",
          "name": "stdout",
          "text": [
            "                 alexnet_gaussian                  resnet_gaussian  \\\n",
            "0                            True                            False   \n",
            "1  {'p_val': 0.20841431617736816}  {'p_val': 0.022015096619725227}   \n",
            "\n",
            "              squeezenet_gaussian  \n",
            "0                            True  \n",
            "1  {'p_val': 0.08623500913381577}  \n",
            "                 alexnet_speckle                 resnet_speckle  \\\n",
            "0                           True                           True   \n",
            "1  {'p_val': 0.8008979558944702}  {'p_val': 0.7052846550941467}   \n",
            "\n",
            "               squeezenet_speckle  \n",
            "0                            True  \n",
            "1  {'p_val': 0.17244701087474823}  \n",
            "                    alexnet_fgsm                    resnet_fgsm  \\\n",
            "0                           True                           True   \n",
            "1  {'p_val': 0.8313117623329163}  {'p_val': 0.3058241605758667}   \n",
            "\n",
            "                 squeezenet_fgsm  \n",
            "0                           True  \n",
            "1  {'p_val': 0.7536930441856384}  \n",
            "                    alexnet_pgd                     resnet_pgd  \\\n",
            "0                          True                           True   \n",
            "1  {'p_val': 0.922224223613739}  {'p_val': 0.9235301613807678}   \n",
            "\n",
            "                  squeezenet_pgd  \n",
            "0                           True  \n",
            "1  {'p_val': 0.5579118728637695}  \n",
            "                     alexnet_s&p                      resnet_s&p  \\\n",
            "0                           True                            True   \n",
            "1  {'p_val': 0.5064802169799805}  {'p_val': 0.06953267008066177}   \n",
            "\n",
            "                    squeezenet_s&p  \n",
            "0                            False  \n",
            "1  {'p_val': 0.010573540814220905}  \n",
            "                  alexnet_eraser                  resnet_eraser  \\\n",
            "0                           True                           True   \n",
            "1  {'p_val': 0.3214679956436157}  {'p_val': 0.8467072248458862}   \n",
            "\n",
            "                squeezenet_eraser  \n",
            "0                            True  \n",
            "1  {'p_val': 0.26070287823677063}  \n"
          ]
        }
      ]
    },
    {
      "cell_type": "code",
      "source": [
        "for i in adversarial:\n",
        "  print(pd.DataFrame.from_dict(H_Test(i).is_normal()))"
      ],
      "metadata": {
        "colab": {
          "base_uri": "https://localhost:8080/"
        },
        "collapsed": true,
        "id": "ks9UQQLMSOJ4",
        "outputId": "b35741da-155e-4690-a91d-5d97fa4f39bf"
      },
      "execution_count": null,
      "outputs": [
        {
          "output_type": "stream",
          "name": "stdout",
          "text": [
            "                    alexnet_fgsm                    alexnet_pgd\n",
            "0                           True                           True\n",
            "1  {'p_val': 0.8638394474983215}  {'p_val': 0.9099480509757996}\n",
            "      resnet_fgsm      resnet_pgd\n",
            "0            True            True\n",
            "1  {'p_val': 1.0}  {'p_val': 1.0}\n",
            "                squeezenet_fgsm                 squeezenet_pgd\n",
            "0                          True                           True\n",
            "1  {'p_val': 0.863391101360321}  {'p_val': 0.4585418999195099}\n"
          ]
        },
        {
          "output_type": "stream",
          "name": "stderr",
          "text": [
            "/usr/local/lib/python3.7/dist-packages/scipy/stats/morestats.py:1757: UserWarning: Input data for shapiro has range zero. The results may not be accurate.\n",
            "  warnings.warn(\"Input data for shapiro has range zero. The results \"\n"
          ]
        }
      ]
    },
    {
      "cell_type": "code",
      "source": [
        "print(pd.DataFrame.from_dict(H_Test(gaussian_fgsm).is_normal()))"
      ],
      "metadata": {
        "colab": {
          "base_uri": "https://localhost:8080/"
        },
        "collapsed": true,
        "id": "1OMELnVtS_XT",
        "outputId": "d17098bf-894a-4985-ba84-b3ee1288582a"
      },
      "execution_count": null,
      "outputs": [
        {
          "output_type": "stream",
          "name": "stdout",
          "text": [
            "                alexnet_gaussian            squeezenet_gaussian  \\\n",
            "0                           True                           True   \n",
            "1  {'p_val': 0.1716853827238083}  {'p_val': 0.4635773003101349}   \n",
            "\n",
            "  resnet_gaussian  \n",
            "0            True  \n",
            "1  {'p_val': 1.0}  \n"
          ]
        },
        {
          "output_type": "stream",
          "name": "stderr",
          "text": [
            "/usr/local/lib/python3.7/dist-packages/scipy/stats/morestats.py:1757: UserWarning: Input data for shapiro has range zero. The results may not be accurate.\n",
            "  warnings.warn(\"Input data for shapiro has range zero. The results \"\n"
          ]
        }
      ]
    },
    {
      "cell_type": "markdown",
      "source": [
        "**TEST 2 - t-student for none VS all noise types**"
      ],
      "metadata": {
        "id": "lb7j0RWBb-Pz"
      }
    },
    {
      "cell_type": "code",
      "source": [
        "for i in cnn:\n",
        "  print(pd.DataFrame.from_dict(H_Test(i).s2_test('t_student', 'greater')))\n"
      ],
      "metadata": {
        "colab": {
          "base_uri": "https://localhost:8080/"
        },
        "collapsed": true,
        "id": "nC5qgnIScLMd",
        "outputId": "57e01cb2-e02a-42da-c193-81303f6e7c22"
      },
      "execution_count": null,
      "outputs": [
        {
          "output_type": "stream",
          "name": "stdout",
          "text": [
            "                     alexnet_none and alexnet_eraser  \\\n",
            "0  {'p_val and t_score': (0.7965783806987332, -0....   \n",
            "1                {'effect size': 0.2320086330256113}   \n",
            "2                                      {'H1': False}   \n",
            "\n",
            "                   alexnet_none and alexnet_gaussian  \\\n",
            "0  {'p_val and t_score': (4.9181425419433095e-05,...   \n",
            "1                {'effect size': 1.1741226503928661}   \n",
            "2                                       {'H1': True}   \n",
            "\n",
            "                       alexnet_none and alexnet_fgsm  \\\n",
            "0  {'p_val and t_score': (0.11149364884366474, 1....   \n",
            "1               {'effect size': 0.34223841184222786}   \n",
            "2                                      {'H1': False}   \n",
            "\n",
            "                        alexnet_none and alexnet_pgd  \\\n",
            "0  {'p_val and t_score': (0.4105209807659408, 0.2...   \n",
            "1               {'effect size': 0.06306871042443755}   \n",
            "2                                      {'H1': False}   \n",
            "\n",
            "                    alexnet_none and alexnet_speckle  \\\n",
            "0  {'p_val and t_score': (6.915786470484988e-06, ...   \n",
            "1                {'effect size': 1.3366257909593893}   \n",
            "2                                       {'H1': True}   \n",
            "\n",
            "                        alexnet_none and alexnet_s&p  \\\n",
            "0  {'p_val and t_score': (4.4710967862260915e-05,...   \n",
            "1                {'effect size': 1.1821953992936731}   \n",
            "2                                       {'H1': True}   \n",
            "\n",
            "                 alexnet_eraser and alexnet_gaussian  \\\n",
            "0  {'p_val and t_score': (2.4172897076801397e-06,...   \n",
            "1                {'effect size': 1.4211854001345665}   \n",
            "2                                       {'H1': True}   \n",
            "\n",
            "                     alexnet_eraser and alexnet_fgsm  \\\n",
            "0  {'p_val and t_score': (0.020971212527945926, 2...   \n",
            "1                {'effect size': 0.5790180765116539}   \n",
            "2                                       {'H1': True}   \n",
            "\n",
            "                      alexnet_eraser and alexnet_pgd  \\\n",
            "0  {'p_val and t_score': (0.15626088680229333, 1....   \n",
            "1               {'effect size': 0.28296611260681054}   \n",
            "2                                      {'H1': False}   \n",
            "\n",
            "                  alexnet_eraser and alexnet_speckle  ...  \\\n",
            "0  {'p_val and t_score': (2.7955197236986503e-07,...  ...   \n",
            "1                {'effect size': 1.5911895625573482}  ...   \n",
            "2                                       {'H1': True}  ...   \n",
            "\n",
            "                   alexnet_gaussian and alexnet_fgsm  \\\n",
            "0  {'p_val and t_score': (0.9979408205103333, -3....   \n",
            "1                {'effect size': 0.8340510046375044}   \n",
            "2                                      {'H1': False}   \n",
            "\n",
            "                    alexnet_gaussian and alexnet_pgd  \\\n",
            "0  {'p_val and t_score': (0.9997854459229777, -3....   \n",
            "1                {'effect size': 1.0462669622104184}   \n",
            "2                                      {'H1': False}   \n",
            "\n",
            "                alexnet_gaussian and alexnet_speckle  \\\n",
            "0  {'p_val and t_score': (0.3093206474867205, 0.5...   \n",
            "1               {'effect size': 0.13892396309455443}   \n",
            "2                                      {'H1': False}   \n",
            "\n",
            "    alexnet_gaussian and alexnet_s&p  \\\n",
            "0  {'p_val and t_score': (0.5, 0.0)}   \n",
            "1               {'effect size': 0.0}   \n",
            "2                      {'H1': False}   \n",
            "\n",
            "                        alexnet_fgsm and alexnet_pgd  \\\n",
            "0  {'p_val and t_score': (0.8238134096299183, -0....   \n",
            "1               {'effect size': 0.26036176964529884}   \n",
            "2                                      {'H1': False}   \n",
            "\n",
            "                    alexnet_fgsm and alexnet_speckle  \\\n",
            "0  {'p_val and t_score': (0.0003997572402159502, ...   \n",
            "1                {'effect size': 0.9901621267506677}   \n",
            "2                                       {'H1': True}   \n",
            "\n",
            "                        alexnet_fgsm and alexnet_s&p  \\\n",
            "0  {'p_val and t_score': (0.0019428999690492635, ...   \n",
            "1                {'effect size': 0.8398406895400261}   \n",
            "2                                       {'H1': True}   \n",
            "\n",
            "                     alexnet_pgd and alexnet_speckle  \\\n",
            "0  {'p_val and t_score': (3.806204544430039e-05, ...   \n",
            "1                {'effect size': 1.1957866724952722}   \n",
            "2                                       {'H1': True}   \n",
            "\n",
            "                         alexnet_pgd and alexnet_s&p  \\\n",
            "0  {'p_val and t_score': (0.0001996049829864599, ...   \n",
            "1                {'effect size': 1.0526880266864014}   \n",
            "2                                       {'H1': True}   \n",
            "\n",
            "                     alexnet_speckle and alexnet_s&p  \n",
            "0  {'p_val and t_score': (0.6919605936465276, -0....  \n",
            "1               {'effect size': 0.13994198965589222}  \n",
            "2                                      {'H1': False}  \n",
            "\n",
            "[3 rows x 21 columns]\n",
            "                      resnet_none and resnet_speckle  \\\n",
            "0  {'p_val and t_score': (0.004513504884100259, 2...   \n",
            "1                {'effect size': 0.7535443553000291}   \n",
            "2                                       {'H1': True}   \n",
            "\n",
            "                          resnet_none and resnet_s&p  \\\n",
            "0  {'p_val and t_score': (8.357884707020593e-07, ...   \n",
            "1                 {'effect size': 1.505365019926786}   \n",
            "2                                       {'H1': True}   \n",
            "\n",
            "                       resnet_none and resnet_eraser  \\\n",
            "0  {'p_val and t_score': (0.7095831639563911, -0....   \n",
            "1                {'effect size': 0.1541481559759636}   \n",
            "2                                      {'H1': False}   \n",
            "\n",
            "                          resnet_none and resnet_pgd  \\\n",
            "0  {'p_val and t_score': (0.5195974029558454, -0....   \n",
            "1              {'effect size': 0.013698347381749068}   \n",
            "2                                      {'H1': False}   \n",
            "\n",
            "                         resnet_none and resnet_fgsm  \\\n",
            "0  {'p_val and t_score': (0.7148959734828695, -0....   \n",
            "1                {'effect size': 0.1585109328127708}   \n",
            "2                                      {'H1': False}   \n",
            "\n",
            "                       resnet_speckle and resnet_s&p  \\\n",
            "0  {'p_val and t_score': (0.004045813830809623, 2...   \n",
            "1                {'effect size': 0.7650497408516859}   \n",
            "2                                       {'H1': True}   \n",
            "\n",
            "                    resnet_speckle and resnet_eraser  \\\n",
            "0  {'p_val and t_score': (0.9993027114677794, -3....   \n",
            "1                {'effect size': 0.9386822809263721}   \n",
            "2                                      {'H1': False}   \n",
            "\n",
            "                       resnet_speckle and resnet_pgd  \\\n",
            "0  {'p_val and t_score': (0.9974420775578171, -2....   \n",
            "1                {'effect size': 0.8122497947774374}   \n",
            "2                                      {'H1': False}   \n",
            "\n",
            "                      resnet_speckle and resnet_fgsm  \\\n",
            "0  {'p_val and t_score': (0.9992434626525347, -3....   \n",
            "1                {'effect size': 0.9310185199446769}   \n",
            "2                                      {'H1': False}   \n",
            "\n",
            "                        resnet_s&p and resnet_eraser  \\\n",
            "0  {'p_val and t_score': (0.9999999470541862, -6....   \n",
            "1                {'effect size': 1.7203015932934502}   \n",
            "2                                      {'H1': False}   \n",
            "\n",
            "                           resnet_s&p and resnet_pgd  \\\n",
            "0  {'p_val and t_score': (0.9999997836213768, -5....   \n",
            "1                {'effect size': 1.6111510600981478}   \n",
            "2                                      {'H1': False}   \n",
            "\n",
            "                          resnet_s&p and resnet_fgsm  \\\n",
            "0  {'p_val and t_score': (0.9999999311527055, -6....   \n",
            "1                {'effect size': 1.6999976092102427}   \n",
            "2                                      {'H1': False}   \n",
            "\n",
            "                        resnet_eraser and resnet_pgd  \\\n",
            "0  {'p_val and t_score': (0.2965466022657429, 0.5...   \n",
            "1                {'effect size': 0.1491620236951222}   \n",
            "2                                      {'H1': False}   \n",
            "\n",
            "                       resnet_eraser and resnet_fgsm  \\\n",
            "0  {'p_val and t_score': (0.5097761513505945, -0....   \n",
            "1              {'effect size': 0.006831283204744331}   \n",
            "2                                      {'H1': False}   \n",
            "\n",
            "                          resnet_pgd and resnet_fgsm  \n",
            "0  {'p_val and t_score': (0.709058188736889, -0.5...  \n",
            "1                {'effect size': 0.1537191656661605}  \n",
            "2                                      {'H1': False}  \n",
            "            squeezenet_eraser and squeezenet_speckle  \\\n",
            "0  {'p_val and t_score': (0.011339674742729615, 2...   \n",
            "1                {'effect size': 0.6521890948626273}   \n",
            "2                                       {'H1': True}   \n",
            "\n",
            "           squeezenet_eraser and squeezenet_gaussian  \\\n",
            "0  {'p_val and t_score': (2.5178152847448818e-08,...   \n",
            "1                {'effect size': 1.7776656853939596}   \n",
            "2                                       {'H1': True}   \n",
            "\n",
            "               squeezenet_eraser and squeezenet_fgsm  \\\n",
            "0  {'p_val and t_score': (0.39639293761441297, 0....   \n",
            "1               {'effect size': 0.07324907398965101}   \n",
            "2                                      {'H1': False}   \n",
            "\n",
            "                squeezenet_eraser and squeezenet_pgd  \\\n",
            "0  {'p_val and t_score': (0.582172637123852, -0.2...   \n",
            "1                 {'effect size': 0.057838534838208}   \n",
            "2                                      {'H1': False}   \n",
            "\n",
            "               squeezenet_eraser and squeezenet_none  \\\n",
            "0  {'p_val and t_score': (0.7723448183076741, -0....   \n",
            "1               {'effect size': 0.20869119873985312}   \n",
            "2                                      {'H1': False}   \n",
            "\n",
            "          squeezenet_speckle and squeezenet_gaussian  \\\n",
            "0  {'p_val and t_score': (0.00013501501526634095,...   \n",
            "1                {'effect size': 1.0871506323339326}   \n",
            "2                                       {'H1': True}   \n",
            "\n",
            "              squeezenet_speckle and squeezenet_fgsm  \\\n",
            "0  {'p_val and t_score': (0.9771194625659717, -2....   \n",
            "1                {'effect size': 0.5682005185061274}   \n",
            "2                                      {'H1': False}   \n",
            "\n",
            "               squeezenet_speckle and squeezenet_pgd  \\\n",
            "0  {'p_val and t_score': (0.9940005286612899, -2....   \n",
            "1                {'effect size': 0.7231256831697017}   \n",
            "2                                      {'H1': False}   \n",
            "\n",
            "              squeezenet_speckle and squeezenet_none  \\\n",
            "0  {'p_val and t_score': (0.998735426601472, -3.1...   \n",
            "1                {'effect size': 0.8819706182597278}   \n",
            "2                                      {'H1': False}   \n",
            "\n",
            "             squeezenet_gaussian and squeezenet_fgsm  \\\n",
            "0  {'p_val and t_score': (0.9999998874770991, -5....   \n",
            "1                {'effect size': 1.6619515665712827}   \n",
            "2                                      {'H1': False}   \n",
            "\n",
            "              squeezenet_gaussian and squeezenet_pgd  \\\n",
            "0  {'p_val and t_score': (0.9999999938774736, -6....   \n",
            "1                {'effect size': 1.8865533968119714}   \n",
            "2                                      {'H1': False}   \n",
            "\n",
            "             squeezenet_gaussian and squeezenet_none  \\\n",
            "0  {'p_val and t_score': (0.9999999994696219, -7....   \n",
            "1                {'effect size': 2.0750812933330844}   \n",
            "2                                      {'H1': False}   \n",
            "\n",
            "                  squeezenet_fgsm and squeezenet_pgd  \\\n",
            "0  {'p_val and t_score': (0.6812718840328793, -0....   \n",
            "1               {'effect size': 0.13150588741295935}   \n",
            "2                                      {'H1': False}   \n",
            "\n",
            "                 squeezenet_fgsm and squeezenet_none  \\\n",
            "0  {'p_val and t_score': (0.8418866166430548, -1....   \n",
            "1                {'effect size': 0.2807859252225532}   \n",
            "2                                      {'H1': False}   \n",
            "\n",
            "                  squeezenet_pgd and squeezenet_none  \n",
            "0  {'p_val and t_score': (0.7082720653858197, -0....  \n",
            "1                {'effect size': 0.1530774707984308}  \n",
            "2                                      {'H1': False}  \n"
          ]
        }
      ]
    },
    {
      "cell_type": "code",
      "source": [
        ""
      ],
      "metadata": {
        "id": "0WyWfcsVm0je"
      },
      "execution_count": null,
      "outputs": []
    },
    {
      "cell_type": "markdown",
      "source": [
        "**TEST 3 - Levene's test for homoscedasticity**"
      ],
      "metadata": {
        "id": "iqGbDFWaThco"
      }
    },
    {
      "cell_type": "code",
      "source": [
        "for i in cnn:\n",
        "  print(H_Test(i).is_homoscedastic())"
      ],
      "metadata": {
        "colab": {
          "base_uri": "https://localhost:8080/"
        },
        "collapsed": true,
        "id": "ttTWeQJTTxUZ",
        "outputId": "44bca78d-25bc-4f1f-cfda-0bd956353cea"
      },
      "execution_count": null,
      "outputs": [
        {
          "output_type": "stream",
          "name": "stdout",
          "text": [
            "[True, 0.992926005082747]\n",
            "[True, 0.9777564671101486]\n",
            "[True, 0.5170407819281022]\n"
          ]
        }
      ]
    },
    {
      "cell_type": "code",
      "source": [
        "for i in noise:\n",
        "  print(H_Test(i).is_homoscedastic())"
      ],
      "metadata": {
        "collapsed": true,
        "colab": {
          "base_uri": "https://localhost:8080/"
        },
        "id": "WyOrtdTJUk8V",
        "outputId": "8dd13a20-d7d3-465b-f0c4-d8ac45991b12"
      },
      "execution_count": null,
      "outputs": [
        {
          "output_type": "stream",
          "name": "stdout",
          "text": [
            "[True, 0.5636724414851908]\n",
            "[True, 0.3856223429750918]\n",
            "[True, 0.42373757861439754]\n",
            "[True, 0.5295414627253765]\n",
            "[True, 0.9687637053834592]\n",
            "[True, 0.7115919962761051]\n"
          ]
        }
      ]
    },
    {
      "cell_type": "markdown",
      "source": [
        "**TEST 4 - ANOVA**"
      ],
      "metadata": {
        "id": "3uP2XZ1iXnTH"
      }
    },
    {
      "cell_type": "code",
      "source": [
        "for i in cnn:\n",
        "  print(ANOVA(i))\n"
      ],
      "metadata": {
        "colab": {
          "base_uri": "https://localhost:8080/"
        },
        "id": "m4-5zrj9qlDZ",
        "outputId": "508771bb-92cb-4dbb-a590-6f5c8566a5e2",
        "collapsed": true
      },
      "execution_count": null,
      "outputs": [
        {
          "output_type": "stream",
          "name": "stdout",
          "text": [
            "(True,       Source        SS   DF       MS          F         p-unc       n2\n",
            "0  cnn_noise  0.002249    5  0.00045  11.280236  3.024121e-09  0.27326\n",
            "1     Within  0.005981  150  0.00004        NaN           NaN      NaN)\n",
            "(True,       Source        SS   DF        MS          F         p-unc        n2\n",
            "0  cnn_noise  0.004457    5  0.000891  18.791483  1.778464e-14  0.385139\n",
            "1     Within  0.007115  150  0.000047        NaN           NaN       NaN)\n",
            "(True,       Source        SS   DF        MS          F         p-unc        n2\n",
            "0  cnn_noise  0.004114    5  0.000823  14.710182  9.919841e-12  0.329012\n",
            "1     Within  0.008391  150  0.000056        NaN           NaN       NaN)\n"
          ]
        }
      ]
    },
    {
      "cell_type": "code",
      "source": [
        "for k in cnn:\n",
        "  print(H_Test(k).many_samples())"
      ],
      "metadata": {
        "colab": {
          "base_uri": "https://localhost:8080/"
        },
        "id": "llocDAPFsblJ",
        "outputId": "e26719b7-693c-413c-b308-464c76e98041"
      },
      "execution_count": null,
      "outputs": [
        {
          "output_type": "stream",
          "name": "stdout",
          "text": [
            "{'assumptions': True, 'H1': True, 'p_val': 2.737843852713569e-10}\n",
            "{'assumptions': True, 'H1': True, 'p_val': 2.9163039796029235e-15}\n",
            "{'assumptions': True, 'H1': True, 'p_val': 1.4499144916048857e-13}\n"
          ]
        }
      ]
    },
    {
      "cell_type": "code",
      "source": [
        "for k in noise:\n",
        "  print(H_Test(k).many_samples())"
      ],
      "metadata": {
        "colab": {
          "base_uri": "https://localhost:8080/"
        },
        "id": "iIHGP5l5s6Fd",
        "outputId": "299e90c0-5d2d-4bc0-d6bb-2119e183d565"
      },
      "execution_count": null,
      "outputs": [
        {
          "output_type": "stream",
          "name": "stdout",
          "text": [
            "{'assumptions': True, 'H1': True, 'p_val': 0.0002367237249470947}\n",
            "{'assumptions': True, 'H1': True, 'p_val': 0.017804315292895976}\n",
            "{'assumptions': True, 'H1': True, 'p_val': 0.0044854604621771856}\n",
            "{'assumptions': True, 'H1': False, 'p_val': 0.09988481332169424}\n",
            "{'assumptions': True, 'H1': True, 'p_val': 0.0036379035148091255}\n",
            "{'assumptions': True, 'H1': True, 'p_val': 0.014039773458495865}\n"
          ]
        }
      ]
    },
    {
      "cell_type": "code",
      "source": [
        "for j in noise:\n",
        "  print(ANOVA(j))\n",
        "\n"
      ],
      "metadata": {
        "colab": {
          "base_uri": "https://localhost:8080/"
        },
        "id": "vPpjCLirsupT",
        "outputId": "070744ad-0a0d-4698-f83d-dc5183b89116"
      },
      "execution_count": null,
      "outputs": [
        {
          "output_type": "stream",
          "name": "stdout",
          "text": [
            "(True,       Source        SS  DF        MS         F     p-unc        n2\n",
            "0  cnn_noise  0.000763   2  0.000381  9.350923  0.000237  0.199589\n",
            "1     Within  0.003059  75  0.000041       NaN       NaN       NaN)\n",
            "(True,       Source        SS  DF        MS         F     p-unc        n2\n",
            "0  cnn_noise  0.000396   2  0.000198  4.252639  0.017804  0.101853\n",
            "1     Within  0.003493  75  0.000047       NaN       NaN       NaN)\n",
            "(True,       Source        SS  DF        MS        F     p-unc        n2\n",
            "0  cnn_noise  0.000617   2  0.000309  5.81614  0.004485  0.134272\n",
            "1     Within  0.003980  75  0.000053      NaN       NaN       NaN)\n",
            "(True,       Source        SS  DF        MS         F     p-unc        n2\n",
            "0  cnn_noise  0.000246   2  0.000123  2.375972  0.099885  0.059584\n",
            "1     Within  0.003879  75  0.000052       NaN       NaN       NaN)\n",
            "(True,       Source        SS  DF        MS         F     p-unc        n2\n",
            "0  cnn_noise  0.000528   2  0.000264  6.058733  0.003638  0.139093\n",
            "1     Within  0.003270  75  0.000044       NaN       NaN       NaN)\n",
            "(True,       Source        SS  DF        MS         F    p-unc        n2\n",
            "0  cnn_noise  0.000459   2  0.000229  4.517963  0.01404  0.107525\n",
            "1     Within  0.003807  75  0.000051       NaN      NaN       NaN)\n"
          ]
        }
      ]
    },
    {
      "cell_type": "markdown",
      "source": [
        "**TEST 5 - t-student for adversarial noise**"
      ],
      "metadata": {
        "id": "u-4wi_tYYw3u"
      }
    },
    {
      "cell_type": "code",
      "source": [
        "print(pd.DataFrame.from_dict(H_Test(gaussian_fgsm).s2_test('t_student','less')))"
      ],
      "metadata": {
        "colab": {
          "base_uri": "https://localhost:8080/"
        },
        "collapsed": true,
        "id": "jMGQIjSsUrWY",
        "outputId": "dd61521f-0385-44ad-8727-8cb58d6085bc"
      },
      "execution_count": null,
      "outputs": [
        {
          "output_type": "execute_result",
          "data": {
            "text/plain": [
              "{'alexnet_gaussian': array([0.09401709, 0.08669109, 0.08547009, 0.08180708, 0.08791209,\n",
              "        0.0952381 , 0.08302808, 0.09279609, 0.08302808, 0.08791209,\n",
              "        0.08302808, 0.09035409, 0.0964591 , 0.08424908, 0.08424908,\n",
              "        0.08913309, 0.08791209, 0.08302808, 0.08913309, 0.08180708,\n",
              "        0.09279609, 0.10744811, 0.0952381 , 0.09035409, 0.08669109,\n",
              "        0.08180708, 0.0952381 , 0.09157509, 0.07570208, 0.09279609]),\n",
              " 'resnet_gaussian': array([0.10500611, 0.10500611, 0.10500611, 0.10500611, 0.10500611,\n",
              "        0.10500611, 0.10500611, 0.10500611, 0.10500611, 0.10500611,\n",
              "        0.10500611, 0.10500611, 0.10500611, 0.10500611, 0.10500611,\n",
              "        0.10500611, 0.10500611, 0.10500611, 0.10500611, 0.10500611,\n",
              "        0.10500611, 0.10500611, 0.10500611, 0.10500611, 0.10500611,\n",
              "        0.10500611, 0.10500611, 0.10500611, 0.10500611, 0.10500611]),\n",
              " 'squeezenet_gaussian': array([0.21611722, 0.22588523, 0.22710623, 0.22100122, 0.22222222,\n",
              "        0.22466422, 0.23321123, 0.22344322, 0.21978022, 0.22710623,\n",
              "        0.22466422, 0.21733822, 0.21855922, 0.22344322, 0.22100122,\n",
              "        0.23076923, 0.22466422, 0.23565324, 0.22344322, 0.22710623,\n",
              "        0.21733822, 0.21367521, 0.22588523, 0.21733822, 0.22344322,\n",
              "        0.22710623, 0.21855922, 0.22466422, 0.22588523, 0.21611722])}"
            ]
          },
          "metadata": {},
          "execution_count": 20
        }
      ]
    },
    {
      "cell_type": "code",
      "source": [
        "for i in adversarial:\n",
        "  print(pd.DataFrame.from_dict(H_Test(i).s2_test('t_student', 'less')))"
      ],
      "metadata": {
        "colab": {
          "base_uri": "https://localhost:8080/"
        },
        "collapsed": true,
        "id": "aXk5Ai-wZv3t",
        "outputId": "85478744-19db-4e21-8eca-9d7424dfebde"
      },
      "execution_count": null,
      "outputs": [
        {
          "output_type": "stream",
          "name": "stdout",
          "text": [
            "                        alexnet_fgsm and alexnet_pgd\n",
            "0  {'p_val and t_score': (4.949540359007603e-25, ...\n",
            "1                 {'effect size': 4.501038883685445}\n",
            "2                                       {'H1': True}\n",
            "                         resnet_fgsm and resnet_pgd\n",
            "0  {'p_val and t_score': (1.0, 5093347630797591.0)}\n",
            "1               {'effect size': 1315096703368271.2}\n",
            "2                                     {'H1': False}\n",
            "                  squeezenet_fgsm and squeezenet_pgd\n",
            "0  {'p_val and t_score': (2.9218659928922003e-52,...\n",
            "1                {'effect size': 14.324854395057853}\n",
            "2                                       {'H1': True}\n"
          ]
        },
        {
          "output_type": "stream",
          "name": "stderr",
          "text": [
            "/usr/local/lib/python3.7/dist-packages/scipy/stats/morestats.py:1757: UserWarning: Input data for shapiro has range zero. The results may not be accurate.\n",
            "  warnings.warn(\"Input data for shapiro has range zero. The results \"\n"
          ]
        }
      ]
    },
    {
      "cell_type": "code",
      "source": [
        "FGSM_attack ={'alexnet_none_attacked':np.array([0.15262515262515264, 0.18315018315018314, 0.15995115995115994, 0.16605616605616605,\n",
        " 0.18192918192918192, 0.17094017094017094, 0.15262515262515264, 0.16605616605616605,\n",
        " 0.1684981684981685, 0.1855921855921856, 0.16971916971916973, 0.15506715506715507, \n",
        " 0.1684981684981685, 0.17704517704517705, 0.1807081807081807, 0.1684981684981685, \n",
        " 0.16483516483516483, 0.17094017094017094, 0.16483516483516483, 0.1623931623931624,\n",
        " 0.15995115995115994, 0.1794871794871795, 0.16727716727716727, 0.17094017094017094, \n",
        " 0.16483516483516483, 0.17216117216117216, 0.14407814407814407, 0.15384615384615385,\n",
        " 0.14652014652014653, 0.1807081807081807]),\n",
        "'alexnet_fgsm_attacked' : np.array([0.33943833943833945, 0.3492063492063492, 0.36874236874236876, \n",
        "                                   0.3626373626373626, 0.3504273504273504, 0.3601953601953602,\n",
        "                                   0.3504273504273504, 0.3528693528693529, 0.3626373626373626,\n",
        "                                   0.35775335775335776, 0.3553113553113553, 0.3516483516483517, \n",
        "                                   0.35653235653235654, 0.3772893772893773, 0.3711843711843712, \n",
        "                                   0.3626373626373626, 0.3443223443223443, 0.358974358974359, \n",
        "                                   0.3528693528693529, 0.3663003663003663, 0.35775335775335776, \n",
        "                                   0.35775335775335776, 0.3516483516483517, 0.3321123321123321,\n",
        "                                   0.3614163614163614, 0.3614163614163614, 0.37606837606837606, \n",
        "                                   0.3711843711843712, 0.36507936507936506, 0.3492063492063492]),\n",
        "'alexnet_eraser_attacked': np.array([0.18803418803418803, 0.20024420024420025, 0.20024420024420025, \n",
        "                                      0.19413919413919414, 0.199023199023199, 0.19413919413919414,\n",
        "                                      0.20757020757020758, 0.2026862026862027, 0.19291819291819293, \n",
        "                                      0.20024420024420025, 0.20024420024420025, 0.1916971916971917,\n",
        "                                      0.18925518925518925, 0.19536019536019536, 0.20146520146520147,\n",
        "                                      0.20024420024420025, 0.2026862026862027, 0.19658119658119658, \n",
        "                                      0.19658119658119658, 0.20146520146520147, 0.19291819291819293, \n",
        "                                      0.19291819291819293, 0.19658119658119658, 0.19536019536019536,\n",
        "                                      0.199023199023199, 0.21001221001221002, 0.20757020757020758,\n",
        "                                      0.2026862026862027, 0.19047619047619047, 0.19413919413919414]),\n",
        "              'alexnet_pgd_attacked': np.array([0.41514041514041516, 0.3894993894993895, 0.39438339438339437, \n",
        "                                                0.4053724053724054, 0.40415140415140416, 0.3968253968253968, \n",
        "                                                0.3956043956043956, 0.4126984126984127, 0.4017094017094017,\n",
        "                                                0.43345543345543347, 0.3894993894993895, 0.3968253968253968, \n",
        "                                                0.39194139194139194, 0.4175824175824176, 0.41025641025641024,\n",
        "                                                0.42124542124542125, 0.4065934065934066, 0.409035409035409, \n",
        "                                                0.3992673992673993, 0.4139194139194139, 0.41147741147741146,\n",
        "                                                0.4078144078144078, 0.4053724053724054, 0.42124542124542125,\n",
        "                                                0.4126984126984127, 0.3956043956043956, 0.4078144078144078,\n",
        "                                                0.4139194139194139, 0.4004884004884005, 0.38461538461538464]),\n",
        "            'squeezenet_none_attacked': np.array([0.20146520146520147, 0.1978021978021978, 0.199023199023199, \n",
        "                                                  0.1978021978021978, 0.1978021978021978, 0.2087912087912088, \n",
        "                                                  0.20024420024420025, 0.19658119658119658, 0.18925518925518925,\n",
        "                                                  0.19536019536019536, 0.20146520146520147, 0.20024420024420025, \n",
        "                                                  0.20634920634920634, 0.199023199023199, 0.20024420024420025, \n",
        "                                                  0.20512820512820512, 0.2026862026862027, 0.20757020757020758,\n",
        "                                                  0.2026862026862027, 0.20757020757020758, 0.19536019536019536, \n",
        "                                                  0.19291819291819293, 0.20146520146520147, 0.2039072039072039,\n",
        "                                                  0.20024420024420025, 0.20146520146520147, 0.18925518925518925, \n",
        "                                                  0.20146520146520147, 0.2026862026862027, 0.20146520146520147]),\n",
        "       'squeezenet_fgsm_attacked': np.array([0.3663003663003663, 0.36752136752136755, 0.3601953601953602, \n",
        "                                             0.3516483516483517, 0.34676434676434675, 0.35775335775335776,\n",
        "                                             0.3626373626373626, 0.3724053724053724, 0.3516483516483517,\n",
        "                                             0.3626373626373626, 0.3528693528693529, 0.3553113553113553,\n",
        "                                             0.3540903540903541, 0.3516483516483517, 0.3443223443223443, \n",
        "                                             0.3601953601953602, 0.3614163614163614, 0.3528693528693529, \n",
        "                                             0.3626373626373626, 0.35653235653235654, 0.3516483516483517,\n",
        "                                             0.34676434676434675, 0.3443223443223443, 0.35775335775335776,\n",
        "                                             0.3504273504273504, 0.35653235653235654, 0.3540903540903541, \n",
        "                                             0.3601953601953602, 0.36507936507936506, 0.35775335775335776]),\n",
        "           'squeezenet_eraser_attacked': np.array([0.24664224664224665, 0.24664224664224665, 0.24175824175824176,\n",
        "                                                   0.2490842490842491, 0.2442002442002442, 0.2503052503052503, \n",
        "                                                   0.2503052503052503, 0.25396825396825395, 0.2503052503052503,\n",
        "                                                   0.24053724053724054, 0.24786324786324787, 0.2515262515262515,\n",
        "                                                   0.2515262515262515, 0.2490842490842491, 0.24297924297924298, \n",
        "                                                   0.2454212454212454, 0.24786324786324787, 0.2503052503052503, \n",
        "                                                   0.2454212454212454, 0.24664224664224665, 0.24297924297924298,\n",
        "                                                   0.25518925518925517, 0.2442002442002442, 0.25396825396825395, \n",
        "                                                   0.24175824175824176, 0.25518925518925517, 0.24297924297924298,\n",
        "                                                   0.24664224664224665, 0.24297924297924298, 0.2490842490842491]),\n",
        "              'squeezenet_pgd_attacked': np.array([0.4517704517704518, 0.46886446886446886, 0.452991452991453, \n",
        "                                                   0.46642246642246643, 0.4603174603174603, 0.4713064713064713,\n",
        "                                                   0.4700854700854701, 0.45787545787545786, 0.4725274725274725, \n",
        "                                                   0.45054945054945056, 0.4542124542124542, 0.4542124542124542, \n",
        "                                                   0.4590964590964591, 0.46764346764346765, 0.4652014652014652, \n",
        "                                                   0.4468864468864469, 0.46764346764346765, 0.4627594627594628, \n",
        "                                                   0.47374847374847373, 0.45787545787545786, 0.46153846153846156, \n",
        "                                                   0.4590964590964591, 0.4603174603174603, 0.45787545787545786, \n",
        "                                                   0.4468864468864469, 0.4627594627594628, 0.452991452991453, \n",
        "                                                   0.45665445665445664, 0.45665445665445664, 0.4713064713064713]) }\n"
      ],
      "metadata": {
        "id": "EYuxzyVLh9Y8"
      },
      "execution_count": null,
      "outputs": []
    },
    {
      "cell_type": "code",
      "source": [
        "FGSM_attack_test = H_Test(FGSM_attack)\n",
        "FGSM_attack_test.s2_test('t_student', 'less') "
      ],
      "metadata": {
        "colab": {
          "base_uri": "https://localhost:8080/"
        },
        "collapsed": true,
        "id": "SkarNFU0jaU0",
        "outputId": "d183ed00-2b8a-4dbe-f28a-f164823b9ea4"
      },
      "execution_count": null,
      "outputs": [
        {
          "output_type": "execute_result",
          "data": {
            "text/plain": [
              "{'alexnet_eraser_attacked and alexnet_pgd_attacked': [{'p_val and t_score': (5.4810723436234035e-65,\n",
              "    -92.49253945557487)},\n",
              "  {'effect size': 23.88147099732493},\n",
              "  {'H1': True}],\n",
              " 'alexnet_eraser_attacked and squeezenet_eraser_attacked': [{'p_val and t_score': (4.613729862405563e-44,\n",
              "    -39.724931594236985)},\n",
              "  {'effect size': 10.256933232913914},\n",
              "  {'H1': True}],\n",
              " 'alexnet_eraser_attacked and squeezenet_fgsm_attacked': [{'p_val and t_score': (1.2039985215315844e-66,\n",
              "    -98.8269835362921)},\n",
              "  {'effect size': 25.51701742613159},\n",
              "  {'H1': True}],\n",
              " 'alexnet_eraser_attacked and squeezenet_none_attacked': [{'p_val and t_score': (0.039549259291700084,\n",
              "    -1.7873965652675323)},\n",
              "  {'effect size': 0.4615038086899661},\n",
              "  {'H1': True}],\n",
              " 'alexnet_eraser_attacked and squeezenet_pgd_attacked': [{'p_val and t_score': (9.366526235873392e-78,\n",
              "    -153.86954743419346)},\n",
              "  {'effect size': 39.7289463134069},\n",
              "  {'H1': True}],\n",
              " 'alexnet_fgsm_attacked and alexnet_eraser_attacked': [{'p_val and t_score': (1.0,\n",
              "    76.07527208592893)},\n",
              "  {'effect size': 19.64255078980005},\n",
              "  {'H1': False}],\n",
              " 'alexnet_fgsm_attacked and alexnet_pgd_attacked': [{'p_val and t_score': (4.949540359007603e-25,\n",
              "    -17.432448637145747)},\n",
              "  {'effect size': 4.501038883685445},\n",
              "  {'H1': True}],\n",
              " 'alexnet_fgsm_attacked and squeezenet_eraser_attacked': [{'p_val and t_score': (1.0,\n",
              "    55.04590639002525)},\n",
              "  {'effect size': 14.212791915030682},\n",
              "  {'H1': False}],\n",
              " 'alexnet_fgsm_attacked and squeezenet_fgsm_attacked': [{'p_val and t_score': (0.7182722437998468,\n",
              "    0.5810536611476604)},\n",
              "  {'effect size': 0.1500274101918491},\n",
              "  {'H1': False}],\n",
              " 'alexnet_fgsm_attacked and squeezenet_none_attacked': [{'p_val and t_score': (1.0,\n",
              "    76.97635298224678)},\n",
              "  {'effect size': 19.875208876801697},\n",
              "  {'H1': False}],\n",
              " 'alexnet_fgsm_attacked and squeezenet_pgd_attacked': [{'p_val and t_score': (9.136995091664515e-47,\n",
              "    -44.37933396394294)},\n",
              "  {'effect size': 11.458694757208548},\n",
              "  {'H1': True}],\n",
              " 'alexnet_none_attacked and alexnet_eraser_attacked': [{'p_val and t_score': (1.3472121239760493e-20,\n",
              "    -14.029615358096963)},\n",
              "  {'effect size': 3.6224311090403565},\n",
              "  {'H1': True}],\n",
              " 'alexnet_none_attacked and alexnet_fgsm_attacked': [{'p_val and t_score': (2.9020290134161234e-58,\n",
              "    -70.65694849482696)},\n",
              "  {'effect size': 18.24354565428667},\n",
              "  {'H1': True}],\n",
              " 'alexnet_none_attacked and alexnet_pgd_attacked': [{'p_val and t_score': (8.189821963680751e-63,\n",
              "    -84.78986568053514)},\n",
              "  {'effect size': 21.892649180525098},\n",
              "  {'H1': True}],\n",
              " 'alexnet_none_attacked and squeezenet_eraser_attacked': [{'p_val and t_score': (3.844298803586324e-43,\n",
              "    -38.24654465598198)},\n",
              "  {'effect size': 9.875215366839765},\n",
              "  {'H1': True}],\n",
              " 'alexnet_none_attacked and squeezenet_fgsm_attacked': [{'p_val and t_score': (1.0018924082083017e-61,\n",
              "    -81.17788766810064)},\n",
              "  {'effect size': 20.96004046792335},\n",
              "  {'H1': True}],\n",
              " 'alexnet_none_attacked and squeezenet_none_attacked': [{'p_val and t_score': (1.4987013286032835e-22,\n",
              "    -15.4721797246634)},\n",
              "  {'effect size': 3.9948996268766273},\n",
              "  {'H1': True}],\n",
              " 'alexnet_none_attacked and squeezenet_pgd_attacked': [{'p_val and t_score': (6.240343886260735e-72,\n",
              "    -122.02183489052892)},\n",
              "  {'effect size': 31.50590229364598},\n",
              "  {'H1': True}],\n",
              " 'alexnet_pgd_attacked and squeezenet_eraser_attacked': [{'p_val and t_score': (1.0,\n",
              "    73.3959981697019)},\n",
              "  {'effect size': 18.950765239301703},\n",
              "  {'H1': False}],\n",
              " 'alexnet_pgd_attacked and squeezenet_fgsm_attacked': [{'p_val and t_score': (1.0,\n",
              "    20.62710229516441)},\n",
              "  {'effect size': 5.325894911312568},\n",
              "  {'H1': False}],\n",
              " 'alexnet_pgd_attacked and squeezenet_none_attacked': [{'p_val and t_score': (1.0,\n",
              "    93.59575355531162)},\n",
              "  {'effect size': 24.166319653030367},\n",
              "  {'H1': False}],\n",
              " 'alexnet_pgd_attacked and squeezenet_pgd_attacked': [{'p_val and t_score': (1.1795458798445697e-30,\n",
              "    -22.51498235956907)},\n",
              "  {'effect size': 5.813343447917652},\n",
              "  {'H1': True}],\n",
              " 'squeezenet_eraser_attacked and squeezenet_pgd_attacked': [{'p_val and t_score': (2.195489683481677e-74,\n",
              "    -134.55179959264828)},\n",
              "  {'effect size': 34.741125268304316},\n",
              "  {'H1': True}],\n",
              " 'squeezenet_fgsm_attacked and squeezenet_eraser_attacked': [{'p_val and t_score': (1.0,\n",
              "    73.99094053932954)},\n",
              "  {'effect size': 19.1043786986031},\n",
              "  {'H1': False}],\n",
              " 'squeezenet_fgsm_attacked and squeezenet_pgd_attacked': [{'p_val and t_score': (2.9218659928922003e-52,\n",
              "    -55.47992250890519)},\n",
              "  {'effect size': 14.324854395057853},\n",
              "  {'H1': True}],\n",
              " 'squeezenet_none_attacked and squeezenet_eraser_attacked': [{'p_val and t_score': (8.311145005190055e-45,\n",
              "    -40.958795135294565)},\n",
              "  {'effect size': 10.57551542931448},\n",
              "  {'H1': True}],\n",
              " 'squeezenet_none_attacked and squeezenet_fgsm_attacked': [{'p_val and t_score': (1.943340218984475e-67,\n",
              "    -102.00214682154684)},\n",
              "  {'effect size': 26.336841061150313},\n",
              "  {'H1': True}],\n",
              " 'squeezenet_none_attacked and squeezenet_pgd_attacked': [{'p_val and t_score': (1.474352078665549e-78,\n",
              "    -158.8654360489317)},\n",
              "  {'effect size': 41.018879207032796},\n",
              "  {'H1': True}]}"
            ]
          },
          "metadata": {},
          "execution_count": 45
        }
      ]
    },
    {
      "cell_type": "code",
      "source": [
        "PGD_attacked = {'alexnet_none_attacked': np.array([0.1575091575091575, 0.15262515262515264, 0.15506715506715507, \n",
        "                                                 0.17094017094017094, 0.16117216117216118, 0.15873015873015872,\n",
        "                                                 0.1684981684981685, 0.16361416361416362, 0.16605616605616605, \n",
        "                                                 0.1575091575091575, 0.17094017094017094, 0.15506715506715507, \n",
        "                                                 0.1452991452991453, 0.15384615384615385, 0.15995115995115994, \n",
        "                                                 0.15995115995115994, 0.14407814407814407, 0.17094017094017094, \n",
        "                                                 0.1562881562881563, 0.16605616605616605, 0.1855921855921856, \n",
        "                                                 0.16605616605616605, 0.1623931623931624, 0.15873015873015872,\n",
        "                                                 0.1623931623931624, 0.15506715506715507, 0.15384615384615385, \n",
        "                                                 0.16117216117216118, 0.17704517704517705, 0.16727716727716727]),\n",
        "              'alexnet_fgsm_attacked': np.array([0.3492063492063492, 0.3540903540903541, 0.3492063492063492, \n",
        "                                                 0.36996336996337, 0.3431013431013431, 0.37362637362637363, \n",
        "                                                 0.36996336996337, 0.32844932844932845, 0.3516483516483517, \n",
        "                                                 0.358974358974359, 0.3492063492063492, 0.3418803418803419,\n",
        "                                                 0.34554334554334554, 0.34798534798534797, 0.32234432234432236,\n",
        "                                                 0.36752136752136755, 0.34798534798534797, 0.34676434676434675, \n",
        "                                                 0.33577533577533575, 0.36385836385836384, 0.3431013431013431, \n",
        "                                                 0.3516483516483517, 0.34554334554334554, 0.35775335775335776, \n",
        "                                                 0.3601953601953602, 0.3492063492063492, 0.3528693528693529, \n",
        "                                                 0.3443223443223443, 0.32844932844932845, 0.3724053724053724]),\n",
        "              'alexnet_eraser_attacked': np.array([0.19047619047619047, 0.18803418803418803, 0.21367521367521367, \n",
        "                                                   0.18681318681318682, 0.19047619047619047, 0.17582417582417584, \n",
        "                                                   0.1746031746031746, 0.17582417582417584, 0.1684981684981685,\n",
        "                                                   0.1807081807081807, 0.17704517704517705, 0.1855921855921856,\n",
        "                                                   0.18803418803418803, 0.19047619047619047, 0.19413919413919414, \n",
        "                                                   0.17704517704517705, 0.17704517704517705, 0.17826617826617827, \n",
        "                                                   0.19291819291819293, 0.17826617826617827, 0.18192918192918192, \n",
        "                                                   0.1794871794871795, 0.16971916971916973, 0.1794871794871795, \n",
        "                                                   0.1794871794871795, 0.19047619047619047, 0.18437118437118438,\n",
        "                                                   0.1916971916971917, 0.20024420024420025, 0.19047619047619047]),\n",
        "                'alexnet_pgd_attacked' : np.array([0.41147741147741146, 0.3907203907203907, 0.39316239316239315,\n",
        "                                                   0.38095238095238093, 0.4004884004884005, 0.39438339438339437,\n",
        "                                                   0.3907203907203907, 0.398046398046398, 0.39316239316239315, \n",
        "                                                   0.4065934065934066, 0.41514041514041516, 0.3907203907203907,\n",
        "                                                   0.3882783882783883, 0.38217338217338215, 0.4065934065934066,\n",
        "                                                   0.3907203907203907, 0.39194139194139194, 0.409035409035409,\n",
        "                                                   0.4053724053724054, 0.3907203907203907, 0.4004884004884005, \n",
        "                                                   0.4004884004884005, 0.36385836385836384, 0.36996336996337, \n",
        "                                                   0.3785103785103785, 0.4004884004884005, 0.38461538461538464, \n",
        "                                                   0.409035409035409, 0.40415140415140416, 0.38461538461538464]),\n",
        "              'squeezenet_none_attacked': np.array([0.1391941391941392, 0.13797313797313798, 0.1391941391941392,\n",
        "                                                    0.13797313797313798, 0.14041514041514042, 0.14285714285714285,\n",
        "                                                    0.1282051282051282, 0.13064713064713065, 0.13553113553113552, \n",
        "                                                    0.1330891330891331, 0.12454212454212454, 0.1330891330891331,\n",
        "                                                    0.13797313797313798, 0.13797313797313798, 0.13675213675213677, \n",
        "                                                    0.14041514041514042, 0.13675213675213677, 0.14041514041514042, \n",
        "                                                    0.13186813186813187, 0.13553113553113552, 0.1343101343101343,\n",
        "                                                    0.13553113553113552, 0.1391941391941392, 0.13186813186813187,\n",
        "                                                    0.14285714285714285, 0.1330891330891331, 0.1343101343101343,\n",
        "                                                    0.14407814407814407, 0.13675213675213677, 0.13553113553113552]),\n",
        "             'squeezenet_fgsm_attacked': np.array([0.3308913308913309, 0.3247863247863248, 0.32234432234432236, 0.32722832722832723,\n",
        "                                                   0.3235653235653236, 0.32234432234432236, 0.32722832722832723, 0.3333333333333333,\n",
        "                                                   0.32967032967032966, 0.336996336996337, 0.3235653235653236, 0.3247863247863248,\n",
        "                                                   0.326007326007326, 0.32967032967032966, 0.33821733821733824, 0.32722832722832723, \n",
        "                                                   0.32722832722832723, 0.33577533577533575, 0.32722832722832723, 0.32967032967032966,\n",
        "                                                   0.3247863247863248, 0.326007326007326, 0.32967032967032966, 0.3321123321123321, \n",
        "                                                   0.33455433455433453, 0.3321123321123321, 0.3235653235653236, 0.3321123321123321,\n",
        "                                                   0.3308913308913309, 0.3333333333333333]),\n",
        "              'squeezenet_eraser_attacked': np.array([0.18925518925518925, 0.19536019536019536, 0.19658119658119658, \n",
        "                                                      0.18681318681318682, 0.19658119658119658, 0.19536019536019536, \n",
        "                                                      0.1978021978021978, 0.19658119658119658, 0.19536019536019536,\n",
        "                                                      0.19413919413919414, 0.19291819291819293, 0.20024420024420025,\n",
        "                                                      0.18925518925518925, 0.1978021978021978, 0.199023199023199, \n",
        "                                                      0.19047619047619047, 0.1978021978021978, 0.19658119658119658, \n",
        "                                                      0.20146520146520147, 0.199023199023199, 0.20024420024420025,\n",
        "                                                      0.18925518925518925, 0.20024420024420025, 0.18681318681318682, \n",
        "                                                      0.19413919413919414, 0.19658119658119658, 0.2026862026862027,\n",
        "                                                      0.19291819291819293, 0.19413919413919414, 0.1978021978021978]),\n",
        "                'squeezenet_pgd_attacked': np.array([0.45054945054945056, 0.42857142857142855, 0.43956043956043955, \n",
        "                                                     0.4346764346764347, 0.4456654456654457, 0.4346764346764347, \n",
        "                                                     0.43833943833943834, 0.4432234432234432, 0.43345543345543347,\n",
        "                                                     0.44932844932844934, 0.42857142857142855, 0.4432234432234432,\n",
        "                                                     0.4444444444444444, 0.4444444444444444, 0.4358974358974359, \n",
        "                                                     0.43101343101343104, 0.4444444444444444, 0.43833943833943834, \n",
        "                                                     0.442002442002442, 0.4481074481074481, 0.4358974358974359, \n",
        "                                                     0.4444444444444444, 0.44078144078144077, 0.4358974358974359, \n",
        "                                                     0.43101343101343104, 0.4542124542124542, 0.4456654456654457, \n",
        "                                                     0.43345543345543347, 0.4358974358974359, 0.44078144078144077]), }"
      ],
      "metadata": {
        "id": "Kzv0sL21pXDb"
      },
      "execution_count": null,
      "outputs": []
    },
    {
      "cell_type": "code",
      "source": [
        "PGD_attacked_test = H_Test(PGD_attacked)\n",
        "PGD_attacked_test.s2_test('t_student', 'less')"
      ],
      "metadata": {
        "colab": {
          "base_uri": "https://localhost:8080/"
        },
        "collapsed": true,
        "id": "1E1nq_Z4sx2d",
        "outputId": "0113502f-eca2-461b-adad-9f166fc3c32a"
      },
      "execution_count": null,
      "outputs": [
        {
          "output_type": "execute_result",
          "data": {
            "text/plain": [
              "{'alexnet_eraser_attacked and alexnet_pgd_attacked': [{'p_val and t_score': (1.026338217525622e-59,\n",
              "    -74.89434289137243)},\n",
              "  {'effect size': 19.33763618289555},\n",
              "  {'H1': True}],\n",
              " 'alexnet_eraser_attacked and squeezenet_eraser_attacked': [{'p_val and t_score': (1.165644200006664e-07,\n",
              "    -5.858309494532142)},\n",
              "  {'effect size': 1.5126090072834515},\n",
              "  {'H1': True}],\n",
              " 'alexnet_eraser_attacked and squeezenet_fgsm_attacked': [{'p_val and t_score': (4.7115345950245896e-60,\n",
              "    -75.91669279535414)},\n",
              "  {'effect size': 19.601605793036743},\n",
              "  {'H1': True}],\n",
              " 'alexnet_eraser_attacked and squeezenet_none_attacked': [{'p_val and t_score': (1.0,\n",
              "    25.328482306693417)},\n",
              "  {'effect size': 6.539786010568855},\n",
              "  {'H1': False}],\n",
              " 'alexnet_eraser_attacked and squeezenet_pgd_attacked': [{'p_val and t_score': (8.83867390991481e-72,\n",
              "    -121.28887838619511)},\n",
              "  {'effect size': 31.31665373799402},\n",
              "  {'H1': True}],\n",
              " 'alexnet_fgsm_attacked and alexnet_eraser_attacked': [{'p_val and t_score': (1.0,\n",
              "    57.23261574731621)},\n",
              "  {'effect size': 14.777397843282936},\n",
              "  {'H1': False}],\n",
              " 'alexnet_fgsm_attacked and alexnet_pgd_attacked': [{'p_val and t_score': (7.269948737911723e-20,\n",
              "    -13.509622848630858)},\n",
              "  {'effect size': 3.4881696204193675},\n",
              "  {'H1': True}],\n",
              " 'alexnet_fgsm_attacked and squeezenet_eraser_attacked': [{'p_val and t_score': (1.0,\n",
              "    63.0254885390313)},\n",
              "  {'effect size': 16.273111166550308},\n",
              "  {'H1': False}],\n",
              " 'alexnet_fgsm_attacked and squeezenet_fgsm_attacked': [{'p_val and t_score': (0.9999999999987361,\n",
              "    8.830489081264474)},\n",
              "  {'effect size': 2.280022476706916},\n",
              "  {'H1': False}],\n",
              " 'alexnet_fgsm_attacked and squeezenet_none_attacked': [{'p_val and t_score': (1.0,\n",
              "    86.77910346543483)},\n",
              "  {'effect size': 22.406268168029296},\n",
              "  {'H1': False}],\n",
              " 'alexnet_fgsm_attacked and squeezenet_pgd_attacked': [{'p_val and t_score': (3.477332456070673e-40,\n",
              "    -33.83524091055151)},\n",
              "  {'effect size': 8.736221637432124},\n",
              "  {'H1': True}],\n",
              " 'alexnet_none_attacked and alexnet_eraser_attacked': [{'p_val and t_score': (3.7625260762306094e-14,\n",
              "    -9.76183614998893)},\n",
              "  {'effect size': 2.5204952558208435},\n",
              "  {'H1': True}],\n",
              " 'alexnet_none_attacked and alexnet_fgsm_attacked': [{'p_val and t_score': (6.772519421323617e-57,\n",
              "    -66.8779674764214)},\n",
              "  {'effect size': 17.267816950958757},\n",
              "  {'H1': True}],\n",
              " 'alexnet_none_attacked and alexnet_pgd_attacked': [{'p_val and t_score': (5.062759237772164e-63,\n",
              "    -85.5015091435316)},\n",
              "  {'effect size': 22.076394732566605},\n",
              "  {'H1': True}],\n",
              " 'alexnet_none_attacked and squeezenet_eraser_attacked': [{'p_val and t_score': (4.0661764179688206e-27,\n",
              "    -19.20559836304948)},\n",
              "  {'effect size': 4.958864174269271},\n",
              "  {'H1': True}],\n",
              " 'alexnet_none_attacked and squeezenet_fgsm_attacked': [{'p_val and t_score': (2.396875864073838e-65,\n",
              "    -93.82981292596713)},\n",
              "  {'effect size': 24.226753522668538},\n",
              "  {'H1': True}],\n",
              " 'alexnet_none_attacked and squeezenet_none_attacked': [{'p_val and t_score': (1.0,\n",
              "    14.155051761824648)},\n",
              "  {'effect size': 3.654818649216721},\n",
              "  {'H1': False}],\n",
              " 'alexnet_none_attacked and squeezenet_pgd_attacked': [{'p_val and t_score': (3.0239141915407697e-75,\n",
              "    -139.244764780458)},\n",
              "  {'effect size': 35.95284366941887},\n",
              "  {'H1': True}],\n",
              " 'alexnet_pgd_attacked and squeezenet_eraser_attacked': [{'p_val and t_score': (1.0,\n",
              "    84.97514213458736)},\n",
              "  {'effect size': 21.940487355257666},\n",
              "  {'H1': False}],\n",
              " 'alexnet_pgd_attacked and squeezenet_fgsm_attacked': [{'p_val and t_score': (1.0,\n",
              "    27.789882292189986)},\n",
              "  {'effect size': 7.175316754047748},\n",
              "  {'H1': False}],\n",
              " 'alexnet_pgd_attacked and squeezenet_none_attacked': [{'p_val and t_score': (1.0,\n",
              "    109.90631148402369)},\n",
              "  {'effect size': 28.37768760138058},\n",
              "  {'H1': False}],\n",
              " 'alexnet_pgd_attacked and squeezenet_pgd_attacked': [{'p_val and t_score': (7.0552996147613e-26,\n",
              "    -18.13716882906197)},\n",
              "  {'effect size': 4.68299685482062},\n",
              "  {'H1': True}],\n",
              " 'squeezenet_eraser_attacked and squeezenet_pgd_attacked': [{'p_val and t_score': (2.6029496171401703e-80,\n",
              "    -170.3411777323492)},\n",
              "  {'effect size': 43.981902968716405},\n",
              "  {'H1': True}],\n",
              " 'squeezenet_fgsm_attacked and squeezenet_eraser_attacked': [{'p_val and t_score': (1.0,\n",
              "    119.58105209896817)},\n",
              "  {'effect size': 30.87569488675101},\n",
              "  {'H1': False}],\n",
              " 'squeezenet_fgsm_attacked and squeezenet_pgd_attacked': [{'p_val and t_score': (3.369918891617815e-60,\n",
              "    -76.36095045656681)},\n",
              "  {'effect size': 19.71631262792353},\n",
              "  {'H1': True}],\n",
              " 'squeezenet_none_attacked and squeezenet_eraser_attacked': [{'p_val and t_score': (2.610314945319603e-51,\n",
              "    -53.38546266215099)},\n",
              "  {'effect size': 13.784067188005908},\n",
              "  {'H1': True}],\n",
              " 'squeezenet_none_attacked and squeezenet_fgsm_attacked': [{'p_val and t_score': (2.798676662114265e-80,\n",
              "    -170.12796161619116)},\n",
              "  {'effect size': 43.9268508042482},\n",
              "  {'H1': True}],\n",
              " 'squeezenet_none_attacked and squeezenet_pgd_attacked': [{'p_val and t_score': (1.5296505272136218e-85,\n",
              "    -209.725932469605)},\n",
              "  {'effect size': 54.1510029148401},\n",
              "  {'H1': True}]}"
            ]
          },
          "metadata": {},
          "execution_count": 40
        }
      ]
    },
    {
      "cell_type": "code",
      "source": [
        "PGD_attacked_test.is_normal()"
      ],
      "metadata": {
        "colab": {
          "base_uri": "https://localhost:8080/"
        },
        "id": "VjQAH_LaAdY6",
        "outputId": "460c384e-8e91-4e8f-f0bc-1b7253544e6b"
      },
      "execution_count": null,
      "outputs": [
        {
          "output_type": "execute_result",
          "data": {
            "text/plain": [
              "{'alexnet_eraser_attacked': [True, {'p_val': 0.06382589787244797}],\n",
              " 'alexnet_fgsm_attacked': [True, {'p_val': 0.32013168931007385}],\n",
              " 'alexnet_none_attacked': [True, {'p_val': 0.5003256797790527}],\n",
              " 'alexnet_pgd_attacked': [True, {'p_val': 0.5185506343841553}],\n",
              " 'squeezenet_eraser_attacked': [True, {'p_val': 0.16912934184074402}],\n",
              " 'squeezenet_fgsm_attacked': [True, {'p_val': 0.2798134684562683}],\n",
              " 'squeezenet_none_attacked': [True, {'p_val': 0.6284553408622742}],\n",
              " 'squeezenet_pgd_attacked': [True, {'p_val': 0.6914223432540894}]}"
            ]
          },
          "metadata": {},
          "execution_count": 43
        }
      ]
    },
    {
      "cell_type": "code",
      "source": [
        "FGSM_attack_test.is_normal()"
      ],
      "metadata": {
        "colab": {
          "base_uri": "https://localhost:8080/"
        },
        "id": "FfeZYDaxAkZc",
        "outputId": "73ba2a62-705e-4bd1-8721-425cb5000813"
      },
      "execution_count": null,
      "outputs": [
        {
          "output_type": "execute_result",
          "data": {
            "text/plain": [
              "{'alexnet_eraser_attacked': [True, {'p_val': 0.585174024105072}],\n",
              " 'alexnet_fgsm_attacked': [True, {'p_val': 0.8638394474983215}],\n",
              " 'alexnet_none_attacked': [True, {'p_val': 0.481832891702652}],\n",
              " 'alexnet_pgd_attacked': [True, {'p_val': 0.9099480509757996}],\n",
              " 'squeezenet_eraser_attacked': [True, {'p_val': 0.31201204657554626}],\n",
              " 'squeezenet_fgsm_attacked': [True, {'p_val': 0.863391101360321}],\n",
              " 'squeezenet_none_attacked': [True, {'p_val': 0.22359269857406616}],\n",
              " 'squeezenet_pgd_attacked': [True, {'p_val': 0.4585418999195099}]}"
            ]
          },
          "metadata": {},
          "execution_count": 46
        }
      ]
    }
  ]
}